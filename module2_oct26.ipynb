{
  "nbformat": 4,
  "nbformat_minor": 0,
  "metadata": {
    "colab": {
      "provenance": [],
      "authorship_tag": "ABX9TyOkb3nO8HxbQnd6ENwtjdBj",
      "include_colab_link": true
    },
    "kernelspec": {
      "name": "python3",
      "display_name": "Python 3"
    },
    "language_info": {
      "name": "python"
    }
  },
  "cells": [
    {
      "cell_type": "markdown",
      "metadata": {
        "id": "view-in-github",
        "colab_type": "text"
      },
      "source": [
        "<a href=\"https://colab.research.google.com/github/mayuresh-tungare/upgrad_bootcamp/blob/main/module2_oct26.ipynb\" target=\"_parent\"><img src=\"https://colab.research.google.com/assets/colab-badge.svg\" alt=\"Open In Colab\"/></a>"
      ]
    },
    {
      "cell_type": "markdown",
      "source": [
        "Write a program to read an age and classify it as Child (<13), Teen ('13-17'), or Adult (18+). If age is negative, print \"Invalid\".\n",
        "\n",
        "Sample Input: 15\n",
        "Sample Output: Teen"
      ],
      "metadata": {
        "id": "_KbD40GVreZc"
      }
    },
    {
      "cell_type": "code",
      "execution_count": null,
      "metadata": {
        "id": "XAnf8HwQrLqD"
      },
      "outputs": [],
      "source": [
        "# Taking input\n",
        "age = int(input())\n",
        "\n",
        "# Write your code here\n",
        "if 0 < age < 13:\n",
        "    result = 'Child'\n",
        "elif 13 <= age <= 17:\n",
        "    result = 'Teen'\n",
        "elif age >= 18:\n",
        "    result = 'Adult'\n",
        "else:\n",
        "    result = 'Invalid'\n",
        "\n",
        "# Print the output\n",
        "print(result)"
      ]
    },
    {
      "cell_type": "markdown",
      "source": [
        "Write a program to compare three sides of a triangle and print whether the triangle is valid or not. A triangle is valid if the sum of any two sides is greater than the third side.\n",
        "\n",
        "Sample input 1:\n",
        "6.0\n",
        "8.2\n",
        "10.3\n",
        "\n",
        "Sample output 1: Valid Triangle\n",
        "\n",
        "Sample input 2:\n",
        "5\n",
        "9\n",
        "15\n",
        "\n",
        "Sample output 2: Invalid Triangle"
      ],
      "metadata": {
        "id": "8t7VAleMtFEb"
      }
    },
    {
      "cell_type": "code",
      "source": [
        "# Taking input\n",
        "a = float(input())\n",
        "b = float(input())\n",
        "c = float(input())\n",
        "\n",
        "# Write your code here\n",
        "if (a + b > c) and (b + c > a) and (a + c > b):\n",
        "    result = 'Valid Triangle'\n",
        "else:\n",
        "    result = 'Invalid Triangle'\n",
        "\n",
        "# Print the output\n",
        "print(result)"
      ],
      "metadata": {
        "id": "vjvW0tE4tPnU"
      },
      "execution_count": null,
      "outputs": []
    },
    {
      "cell_type": "markdown",
      "source": [
        "Check for leap year\n",
        "\n",
        "Write a program to determine if a given year is a leap year. A year is a leap year if:\n",
        "\n",
        "It is divisible by 4 and not divisible by 100, or\n",
        "It is divisible by 400\n",
        "\n",
        "Sample Input 1: 2024\n",
        "Sample Output 2: Leap Year\n",
        "\n",
        "Sample Input 1: 2021\n",
        "Sample Output 1: Not Leap Year"
      ],
      "metadata": {
        "id": "BlE9npSiuS-P"
      }
    },
    {
      "cell_type": "code",
      "source": [
        "# Taking input\n",
        "year = int(input())\n",
        "\n",
        "# Write your code here\n",
        "if (year % 4 == 0 and year % 100 != 0) or year % 400 == 0:\n",
        "    result = 'Leap Year'\n",
        "else:\n",
        "    result = 'Not Leap Year'\n",
        "\n",
        "# Print the output\n",
        "print(result)"
      ],
      "metadata": {
        "id": "uKOIkDTjvSf4"
      },
      "execution_count": null,
      "outputs": []
    },
    {
      "cell_type": "markdown",
      "source": [
        "Write a program to calculate the sum of all even numbers from 1 to N (inclusive).\n",
        "\n",
        "Sample Input: 6\n",
        "Sample Output: 12\n",
        "\n",
        "Explanation:\n",
        "Here, N = 6, hence sum of all even numbers from 1 to 6: 2 + 4 + 6 = 12"
      ],
      "metadata": {
        "id": "dlTAGldbwBJL"
      }
    },
    {
      "cell_type": "code",
      "source": [
        "# Taking input\n",
        "n = int(input())\n",
        "\n",
        "# Write your code here\n",
        "i = 0\n",
        "result = 0\n",
        "while i <= n:\n",
        "    if i % 2 == 0:\n",
        "        result = i + result\n",
        "    i = i + 1\n",
        "\n",
        "# Print the output\n",
        "print(result)"
      ],
      "metadata": {
        "id": "Z-VguO_f1dkT"
      },
      "execution_count": null,
      "outputs": []
    },
    {
      "cell_type": "markdown",
      "source": [
        "Write a program to count the number of digits in a given positive integer N. You need to repeatedly divide the number by 10 and count how many times you can do this before the number becomes zero. This simulates removing the last digit each time.\n",
        "\n",
        "If the input number is zero, the count of digits should be 1, since zero itself is a single-digit number.\n",
        "\n",
        "Sample Input 1: 12345\n",
        "Sample Output 1: 5\n",
        "\n",
        "Sample Input 2: 0\n",
        "Sample Output 2: 1"
      ],
      "metadata": {
        "id": "oyxfNIi917PJ"
      }
    },
    {
      "cell_type": "code",
      "source": [
        "# Taking input\n",
        "N = int(input())\n",
        "\n",
        "# Write your code here\n",
        "count = 0\n",
        "if N == 0:\n",
        "    count = 1\n",
        "else:\n",
        "    for i in range(0, len(str(N))):\n",
        "        count = count + 1\n",
        "\n",
        "# Print the output\n",
        "print(count)"
      ],
      "metadata": {
        "id": "lm54cqPv4BUa"
      },
      "execution_count": null,
      "outputs": []
    },
    {
      "cell_type": "markdown",
      "source": [
        "Print Numbers Skipping Multiples of 3\n",
        "\n",
        "Write a program to print numbers from 1 to n (inclusive), but skip any number that is a multiple of 3.\n",
        "\n",
        "Sample Input: 10\n",
        "Sample Output:\n",
        "\n",
        "1\n",
        "2\n",
        "4\n",
        "5\n",
        "7\n",
        "8\n",
        "10"
      ],
      "metadata": {
        "id": "daeX31ZR4Q-B"
      }
    },
    {
      "cell_type": "code",
      "source": [
        "# Taking input\n",
        "n = int(input())\n",
        "\n",
        "# Write your code here\n",
        "for i in range(0, n+1):\n",
        "    if i % 3 == 0:\n",
        "        continue\n",
        "    else:\n",
        "        print (i)"
      ],
      "metadata": {
        "id": "KyTANFdD5EGZ"
      },
      "execution_count": null,
      "outputs": []
    },
    {
      "cell_type": "markdown",
      "source": [
        "Write a program that reads two integers A and B (with A ≤ B) and finds the first number in the range [A, B] that is divisible by 7.\n",
        "\n",
        "If no number in the range is divisible by 7, print 0.\n",
        "\n",
        "Sample Input:\n",
        "\n",
        "10\n",
        "20\n",
        "\n",
        "Sample Output:\n",
        "14"
      ],
      "metadata": {
        "id": "06TkXTLU5OTt"
      }
    },
    {
      "cell_type": "code",
      "source": [
        "# Taking input\n",
        "a = int(input())\n",
        "b = int(input())\n",
        "\n",
        "# Write your code here\n",
        "result = 0\n",
        "if a < b:\n",
        "    for i in range(a,b):\n",
        "        if i % 7 == 0:\n",
        "            result = i\n",
        "            break\n",
        "        else:\n",
        "            continue\n",
        "elif b > a:\n",
        "    for i in range(b,a):\n",
        "        if i % 7 == 0:\n",
        "            result = i\n",
        "            break\n",
        "        else:\n",
        "            continue\n",
        "else:\n",
        "    if a % 7 == 0:\n",
        "        result = a\n",
        "\n",
        "# Print the output\n",
        "print(result)\n"
      ],
      "metadata": {
        "id": "Y0rQEo1y8LQd"
      },
      "execution_count": null,
      "outputs": []
    },
    {
      "cell_type": "markdown",
      "source": [
        "Write a program to print a right-angled triangle pattern of stars (*) of height n using nested loops.\n",
        "\n",
        "Sample Input: 4\n",
        "\n",
        "Sample Output:\n",
        "\n",
        "*\n",
        "\n",
        "**\n",
        "\n",
        "***\n",
        "\n",
        "****"
      ],
      "metadata": {
        "id": "pjNdmQTa9jx_"
      }
    },
    {
      "cell_type": "code",
      "source": [
        "# Taking input\n",
        "n = int(input())\n",
        "\n",
        "# Write your code here\n",
        "for i in range(1,n+1):\n",
        "    for j in range(i):\n",
        "        print('*',end='')\n",
        "    print()"
      ],
      "metadata": {
        "id": "SkYdrcUxj2Wf"
      },
      "execution_count": null,
      "outputs": []
    },
    {
      "cell_type": "markdown",
      "source": [
        "Write a program to read a string and count the number of vowels in it and print the count.\n",
        "\n",
        "Sample Input 1: Python\n",
        "Sample Output 1: 1\n",
        "\n",
        "Sample Input 2: ProgrAmming\n",
        "Sample Output 2: 3"
      ],
      "metadata": {
        "id": "0In1a-0dkWMM"
      }
    },
    {
      "cell_type": "code",
      "source": [
        "# Taking input\n",
        "s = input()\n",
        "\n",
        "# Write your code here\n",
        "vowels = 'aeiouAEIOU'\n",
        "count = 0\n",
        "\n",
        "for char in s:\n",
        "    if char in vowels:\n",
        "        count += 1\n",
        "\n",
        "print(count)"
      ],
      "metadata": {
        "id": "ttpfAMtxmCV_"
      },
      "execution_count": null,
      "outputs": []
    },
    {
      "cell_type": "markdown",
      "source": [
        "Electricity bills are calculated based on the number of units (kWh) consumed in a month, with varying rates depending on the consumption slab. Your task is to write a program that computes the total electricity bill amount based on the following tariff structure used by many utility providers:\n",
        "\n",
        "For the first 100 units: ₹5 per unit\n",
        "For the next 100 units (i.e., from 101 to 200): ₹8 per unit\n",
        "For all units beyond 200: ₹10 per unit\n",
        "\n",
        "The program should take the total number of units consumed in a month as input and compute the total cost accordingly.\n",
        "\n",
        "Sample Input: 250\n",
        "Sample Output: 1800"
      ],
      "metadata": {
        "id": "mj0KQxOKmM_y"
      }
    },
    {
      "cell_type": "code",
      "source": [
        "# Taking input\n",
        "units = int(input())\n",
        "total_bill = 0\n",
        "\n",
        "# Write your code here\n",
        "if units <= 100:\n",
        "    total_bill = (units * 5)\n",
        "elif 100 < units <= 200:\n",
        "    total_bill = (100 * 5) + (units - 100) * 8\n",
        "elif units > 200:\n",
        "    total_bill = (100 * 5) + (100 * 8) + ((units - 200) * 10)\n",
        "\n",
        "# Print the output\n",
        "print(total_bill)"
      ],
      "metadata": {
        "id": "kX8a5D_Msa3B"
      },
      "execution_count": null,
      "outputs": []
    },
    {
      "cell_type": "markdown",
      "source": [
        "An elevator controls access based on the floor number and user type. Floors are divided into the following zones:\n",
        "\n",
        "Floors 1 to 10: Standard access\n",
        "Floors 11 to 15: Restricted access\n",
        "Floors 16 to 20: VIP access\n",
        "\n",
        "\n",
        "User types and access rights:\n",
        "\n",
        "\"guest\": floors 1 to 10 only\n",
        "\"staff\": floors 1 to 15\n",
        "\"vip\": floors 1 to 20\n",
        "\n",
        "\n",
        "Given a floor number and user type, write a program to print \"Access Granted\" if the user has access to that floor; otherwise print \"Access Denied\".\n",
        "\n",
        "Note: If the floor number is outside 1 to 20, or if the user type is unknown, print \"Access Denied\".\n",
        "\n",
        "\n",
        "\n",
        "Sample Input 1:\n",
        "\n",
        "7\n",
        "\n",
        "unknown\n",
        "\n",
        "\n",
        "\n",
        "Sample Output 1: Access Denied\n",
        "\n",
        "\n",
        "\n",
        "Sample Input 2:\n",
        "\n",
        "19\n",
        "\n",
        "vip\n",
        "\n",
        "\n",
        "\n",
        "Sample Output: Access Granted"
      ],
      "metadata": {
        "id": "k1q4QgJduZLD"
      }
    },
    {
      "cell_type": "code",
      "source": [
        "# Taking input\n",
        "floor = int(input())\n",
        "user_type = input()\n",
        "\n",
        "# Write your code here\n",
        "if (user_type == 'vip') and (0 < floor <= 20):\n",
        "    result = 'Access Granted'\n",
        "elif (user_type == 'staff') and (0 < floor <= 15):\n",
        "    result = 'Access Granted'\n",
        "elif (user_type == 'guest') and (0 < floor <= 10):\n",
        "    result = 'Access Granted'\n",
        "else:\n",
        "    result = 'Access Denied'\n",
        "\n",
        "print(result)"
      ],
      "metadata": {
        "id": "oQ3misHbusey"
      },
      "execution_count": null,
      "outputs": []
    },
    {
      "cell_type": "markdown",
      "source": [
        "In a building with floors numbered from 1 to 20, an elevator system needs to decide in which direction it should move based on the current and target floor inputs.\n",
        "\n",
        "Based on the values, write a program to:\n",
        "Print \"Up\" if the elevator should go to a higher floor.\n",
        "Print \"Down\" if the elevator should go to a lower floor.\n",
        "Print \"Stay\" if the elevator is already on the target floor.\n",
        "\n",
        "\n",
        "Sample Input:\n",
        "\n",
        "5\n",
        "\n",
        "8\n",
        "\n",
        "Sample Output: Up"
      ],
      "metadata": {
        "id": "JCivQtH3vqrj"
      }
    },
    {
      "cell_type": "code",
      "source": [
        "# Taking input\n",
        "current = int(input())\n",
        "target = int(input())\n",
        "\n",
        "# Write your code here\n",
        "if current < target:\n",
        "    result = 'Up'\n",
        "elif current > target:\n",
        "    result = 'Down'\n",
        "elif current == target:\n",
        "    result = 'Stay'\n",
        "else:\n",
        "    result = 'Invalid input'\n",
        "\n",
        "print(result)"
      ],
      "metadata": {
        "id": "ywJ7hkplv1yp"
      },
      "execution_count": null,
      "outputs": []
    },
    {
      "cell_type": "markdown",
      "source": [
        "Given two integers a and b such that a < b, write a program to print all odd numbers between them, not including a or b.\n",
        "\n",
        "If there are no odd numbers in the range, print \"No odd numbers\".\n",
        "\n",
        "Sample Input 1:\n",
        "\n",
        "3\n",
        "\n",
        "10\n",
        "\n",
        "\n",
        "Sample Output 1:\n",
        "\n",
        "5\n",
        "\n",
        "7\n",
        "\n",
        "9\n",
        "\n",
        "\n",
        "Sample Input 2:\n",
        "\n",
        "1\n",
        "\n",
        "3\n",
        "\n",
        "\n",
        "Sample Output 2: No odd numbers"
      ],
      "metadata": {
        "id": "Vr9i0gWlxTUq"
      }
    },
    {
      "cell_type": "code",
      "source": [
        "# Taking input\n",
        "a = int(input())\n",
        "b = int(input())\n",
        "set_flag = 0\n",
        "\n",
        "# Write your code here\n",
        "for i in range(a+1, b):\n",
        "    if (i % 2 != 0):\n",
        "        print (i)\n",
        "        set_flag = 1\n",
        "    else:\n",
        "        continue\n",
        "\n",
        "if set_flag == 0:\n",
        "    print('No odd numbers')"
      ],
      "metadata": {
        "id": "8MJzfMv9xemI"
      },
      "execution_count": null,
      "outputs": []
    },
    {
      "cell_type": "markdown",
      "source": [
        "Graded exercises below:"
      ],
      "metadata": {
        "id": "e_sT_6ABy0yN"
      }
    },
    {
      "cell_type": "markdown",
      "source": [
        "Write a program to print numbers from 1 to n. For multiples of 3, print \"Fizz\" instead of the number. For multiples of 4, print \"Buzz\". For multiples of both 3 and 4, print \"FizzBuzz\".\n",
        "\n",
        "Sample Input:\n",
        "\n",
        "10\n",
        "\n",
        "Sample Output:\n",
        "\n",
        "1\n",
        "\n",
        "2\n",
        "\n",
        "Fizz\n",
        "\n",
        "Buzz\n",
        "\n",
        "5\n",
        "\n",
        "Fizz\n",
        "\n",
        "7\n",
        "\n",
        "Buzz\n",
        "\n",
        "Fizz\n",
        "\n",
        "10"
      ],
      "metadata": {
        "id": "WCIe1DbLy5qJ"
      }
    },
    {
      "cell_type": "code",
      "source": [
        "# Taking input\n",
        "n = int(input())\n",
        "\n",
        "# Write your code here\n",
        "for i in range(1,n+1):\n",
        "    if (i % 12 == 0):\n",
        "        print(\"FizzBuzz\")\n",
        "    elif (i % 4 == 0):\n",
        "        print(\"Buzz\")\n",
        "    elif (i % 3 == 0):\n",
        "        print(\"Fizz\")\n",
        "    else:\n",
        "        print(i)"
      ],
      "metadata": {
        "id": "28fiaXGw0cAP"
      },
      "execution_count": null,
      "outputs": []
    },
    {
      "cell_type": "markdown",
      "source": [
        "You are designing a basic program for a security checkpoint system at a restricted facility. A person is allowed to enter only if:\n",
        "\n",
        "Their age is 18 or older, and\n",
        "Their security clearance level is 3 or higher\n",
        "\n",
        "However, there’s a special rule:\n",
        "\n",
        "If the age is between 16 and 18 (exclusive), and the clearance level is 5, they may be allowed after manual verification.\n",
        "\n",
        "Write a program that takes two inputs: the age of the person and the security clearance level and based on the above rules, print exactly one of the following:\n",
        "\n",
        "\"Access Granted\"\n",
        "\"Manual Verification Required\"\n",
        "\"Access Denied\"\n",
        "\n",
        "\n",
        "Sample Input:\n",
        "\n",
        "20\n",
        "\n",
        "4\n",
        "\n",
        "\n",
        "Sample Output: Access Granted"
      ],
      "metadata": {
        "id": "Jqz8A0w00o0w"
      }
    },
    {
      "cell_type": "code",
      "source": [
        "# Taking input\n",
        "age = int(input())\n",
        "clearance = int(input())\n",
        "\n",
        "# Write your code here\n",
        "if (age >= 18) and (clearance >= 3):\n",
        "    result = \"Access Granted\"\n",
        "elif (16 < age < 18) and (clearance == 5):\n",
        "    result = \"Manual Verification Required\"\n",
        "else:\n",
        "    result = \"Access Denied\"\n",
        "\n",
        "# Print the output\n",
        "print(result)"
      ],
      "metadata": {
        "id": "mUHT1su7106x"
      },
      "execution_count": null,
      "outputs": []
    },
    {
      "cell_type": "markdown",
      "source": [
        "A store offers discounts based on the customer's age and membership status. Given the customer's age and whether they are a member ('Y' for yes, 'N' for no), determine the discount percentage as follows:\n",
        "\n",
        "\n",
        "If age is below 18 or above 60:\n",
        "If member, discount is 20%\n",
        "Otherwise, discount is 10%\n",
        "\n",
        "Otherwise (age between 18 and 60 inclusive):\n",
        "If member, discount is 5%\n",
        "Otherwise, no discount\n",
        "\n",
        "\n",
        "Write a program to print the discount percentage such as \"20%\" or \"No Discount\" accordingly.\n",
        "\n",
        "Sample Input:\n",
        "\n",
        "65\n",
        "\n",
        "Y\n",
        "\n",
        "\n",
        "Sample Output: 20%"
      ],
      "metadata": {
        "id": "u6ll2xk83L4S"
      }
    },
    {
      "cell_type": "code",
      "source": [
        "# Taking input\n",
        "age = int(input())\n",
        "member = input()\n",
        "\n",
        "# Write your code here\n",
        "if (age < 18 or age > 60):\n",
        "    if (member == 'Y'):\n",
        "        discount = '20%'\n",
        "    elif (member == 'N'):\n",
        "        discount = '10%'\n",
        "elif (18 <= age <= 60):\n",
        "    if (member == 'Y'):\n",
        "        discount = '5%'\n",
        "    elif (member == 'N'):\n",
        "        discount = 'No Discount'\n",
        "\n",
        "print(discount)"
      ],
      "metadata": {
        "id": "Xfi-mIiV7H_R"
      },
      "execution_count": null,
      "outputs": []
    },
    {
      "cell_type": "markdown",
      "source": [
        "A public library has a fine system for late returns:\n",
        "\n",
        "If the book is returned within 7 days, there is no fine.\n",
        "If returned between 8 and 15 days (inclusive), the fine is ₹2 per day for each day after day 7.\n",
        "If returned after 15 days, the fine is ₹2 per day from day 8 to 15, and ₹5 per day for every day after day 15.\n",
        "\n",
        "Write a program that reads the number of days a book is late and prints the total fine to be paid.\n",
        "\n",
        "\n",
        "Sample Input:\n",
        "10\n",
        "\n",
        "\n",
        "Sample Output:\n",
        "6"
      ],
      "metadata": {
        "id": "ZO61WQVl7l4b"
      }
    },
    {
      "cell_type": "code",
      "source": [
        "# Taking input\n",
        "days_late = int(input())\n",
        "fine = 0\n",
        "\n",
        "# Write your code here\n",
        "if (days_late <= 7):\n",
        "    fine = 0\n",
        "elif (8 <= days_late <= 15):\n",
        "    fine = 2 * (days_late - 7)\n",
        "elif (days_late > 15):\n",
        "    fine = 2 * 7 + 5 * (days_late - 15)\n",
        "\n",
        "# Print the output\n",
        "print(fine)"
      ],
      "metadata": {
        "id": "Q0WMAV3E9N3Q"
      },
      "execution_count": null,
      "outputs": []
    },
    {
      "cell_type": "markdown",
      "source": [
        "Given a number of rows, write a program to print a pattern of numbers starting from 1 and increasing continuously in each row. The first row should have 1 number, the second row 2 numbers, the third row 3 numbers, and so on.\n",
        "\n",
        "Note : The input n will be a positive integer\n",
        "\n",
        "\n",
        "Sample Input:\n",
        "5\n",
        "\n",
        "\n",
        "Sample Output:\n",
        "\n",
        "1\n",
        "\n",
        "2 3\n",
        "\n",
        "4 5 6\n",
        "\n",
        "7 8 9 10\n",
        "\n",
        "11 12 13 14 15"
      ],
      "metadata": {
        "id": "b2Knsnks92jA"
      }
    },
    {
      "cell_type": "code",
      "source": [
        "# Taking input\n",
        "n = int(input())\n",
        "current_number = 1\n",
        "\n",
        "# Write your code here\n",
        "for i in range (1, n+1):\n",
        "    for j in range (i):\n",
        "        print(current_number, end=\" \")\n",
        "        current_number += 1\n",
        "    print()"
      ],
      "metadata": {
        "id": "14GjxoT9K1fN"
      },
      "execution_count": null,
      "outputs": []
    },
    {
      "cell_type": "markdown",
      "source": [
        "A palindrome is a sequence that reads the same forward and backward. This concept applies to words, numbers, and other sequences. For example:\n",
        "\n",
        "\n",
        "\n",
        "In text, \"madam\" and \"racecar\" are palindromes because the characters are symmetric\n",
        "In numbers, values such as 121, 1331, and 7 are palindromes because their digits remain the same when reversed\n",
        "\n",
        "\n",
        "In this question, you are specifically dealing with integers. Write a program to check whether a given integer is a palindrome.\n",
        "\n",
        "\n",
        "\n",
        "If it does, print \"Palindrome\"\n",
        "Otherwise, print \"Not Palindrome\"\n",
        "\n",
        "\n",
        "\n",
        "\n",
        "Sample Input 1:\n",
        "\n",
        "121\n",
        "\n",
        "\n",
        "\n",
        "Sample Output 1:\n",
        "\n",
        "Palindrome\n",
        "\n",
        "\n",
        "\n",
        "\n",
        "\n",
        "Sample Input 2:\n",
        "\n",
        "10\n",
        "\n",
        "\n",
        "\n",
        "Sample Output 2:\n",
        "\n",
        "Not Palindrome"
      ],
      "metadata": {
        "id": "xg2gCyKcLICh"
      }
    },
    {
      "cell_type": "code",
      "source": [
        "# Taking input\n",
        "n = int(input())\n",
        "original_number = n\n",
        "reverse_number = 0\n",
        "\n",
        "# Write your code here\n",
        "while original_number > 0:\n",
        "    last_digit = original_number % 10\n",
        "    reverse_number = reverse_number * 10 + last_digit\n",
        "    original_number = original_number // 10\n",
        "\n",
        "if (reverse_number == n):\n",
        "    result = \"Palindrome\"\n",
        "else:\n",
        "    result = \"Not Palindrome\"\n",
        "\n",
        "print(result)\n"
      ],
      "metadata": {
        "id": "g4v-yi6URmab"
      },
      "execution_count": null,
      "outputs": []
    },
    {
      "cell_type": "markdown",
      "source": [
        "Write a program that takes an integer and a single-digit number as input and prints how many times the digit appears in the integer.\n",
        "\n",
        "\n",
        "\n",
        "Sample Input:\n",
        "\n",
        "1234111\n",
        "\n",
        "1\n",
        "\n",
        "\n",
        "\n",
        "Sample Output: 4"
      ],
      "metadata": {
        "id": "oVYdmMTXSAG7"
      }
    },
    {
      "cell_type": "code",
      "source": [
        "# Taking inputs\n",
        "n = int(input())\n",
        "digit_to_count = int(input())\n",
        "\n",
        "# Write your code here\n",
        "count = 0\n",
        "for i in str(n):\n",
        "    if str(digit_to_count) == i:\n",
        "        count += 1\n",
        "\n",
        "# Print the output\n",
        "print(count)"
      ],
      "metadata": {
        "id": "p00R3QhfS1lS"
      },
      "execution_count": null,
      "outputs": []
    },
    {
      "cell_type": "markdown",
      "source": [
        "In a test, there are three sections. Each section is worth 50 marks, and the total score of the test is 150.\n",
        "\n",
        "\n",
        "\n",
        "To pass the test, the student must score at least 30 marks in each section. If the student scores less than 30 in any section, they fail the test.\n",
        "\n",
        "\n",
        "\n",
        "Write a program that:\n",
        "\n",
        "Takes the marks scored in each of the three sections as input\n",
        "Checks if the student scores 30 marks or more in each section\n",
        "Prints \"Pass\" if the student passes all sections, otherwise prints \"Fail\"\n",
        "\n",
        "\n",
        "\n",
        "\n",
        "Sample Input:\n",
        "\n",
        "20\n",
        "\n",
        "30\n",
        "\n",
        "20\n",
        "\n",
        "\n",
        "\n",
        "Sample Output:\n",
        "\n",
        "Fail"
      ],
      "metadata": {
        "id": "g8sMCRxNTiUn"
      }
    },
    {
      "cell_type": "code",
      "source": [
        "# Taking input\n",
        "section1 = int(input())\n",
        "section2 = int(input())\n",
        "section3 = int(input())\n",
        "\n",
        "# Write your code here\n",
        "result = ''\n",
        "\n",
        "if (section1 >= 30) and (section2 >= 30) and (section3 >= 30):\n",
        "    result = 'Pass'\n",
        "else:\n",
        "    result = 'Fail'\n",
        "\n",
        "print(result)\n"
      ],
      "metadata": {
        "id": "HOdBFj3LTk72"
      },
      "execution_count": null,
      "outputs": []
    },
    {
      "cell_type": "markdown",
      "source": [
        "You are in a skyscraper and want to reach a specific floor, but the skyscraper has a faulty elevator. The elevator operates as follows:\n",
        "\n",
        "\n",
        "\n",
        "It moves up by 'u' floors\n",
        "Immediately after, it slips down by 'd' floors\n",
        "Each upward movement (before slipping) is counted as one move\n",
        "The elevator continues this pattern until it reaches or exceeds the target floor during the upward movement\n",
        "\n",
        "\n",
        "\n",
        "\n",
        "Write a program that prints the number of moves the elevator needs to reach or go beyond the target floor based on the values of 'u', 'd', and 'target'.\n",
        "\n",
        "\n",
        "\n",
        "\n",
        "\n",
        "Sample Input:\n",
        "\n",
        "3\n",
        "\n",
        "1\n",
        "\n",
        "10\n",
        "\n",
        "\n",
        "\n",
        "Sample Output:\n",
        "\n",
        "5"
      ],
      "metadata": {
        "id": "9XXl5pMwVCHj"
      }
    },
    {
      "cell_type": "code",
      "source": [
        "# Read inputs\n",
        "u = int(input())\n",
        "d = int(input())\n",
        "target = int(input())\n",
        "i = 0\n",
        "m = 0\n",
        "\n",
        "# Write your code here\n",
        "if target <= u:\n",
        "    m = 1\n",
        "else:\n",
        "    while i < target:\n",
        "        i = i + u - d\n",
        "        m += 1\n",
        "\n",
        "# Print the output\n",
        "print(m)"
      ],
      "metadata": {
        "id": "nO1oHwpHY_2S"
      },
      "execution_count": null,
      "outputs": []
    },
    {
      "cell_type": "markdown",
      "source": [
        "You are given a number n. Print all the perfect squares from 1 up to n (inclusive), each on a new line. A perfect square is a number that can be expressed as the square of an integer (e.g., 1, 4, 9, 16, etc.).\n",
        "\n",
        "\n",
        "\n",
        "Sample Input:\n",
        "\n",
        "20\n",
        "\n",
        "\n",
        "\n",
        "Sample Output:\n",
        "\n",
        "1\n",
        "\n",
        "4\n",
        "\n",
        "9\n",
        "\n",
        "16"
      ],
      "metadata": {
        "id": "zGXflW3NZUXS"
      }
    },
    {
      "cell_type": "code",
      "source": [
        "# Taking input\n",
        "n = int(input())\n",
        "\n",
        "# Write your code here\n",
        "for i in range (1, n):\n",
        "    if i * i <= n:\n",
        "        print(i*i)"
      ],
      "metadata": {
        "id": "BAcXCutNZwLE"
      },
      "execution_count": null,
      "outputs": []
    }
  ]
}