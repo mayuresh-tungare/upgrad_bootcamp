{
  "nbformat": 4,
  "nbformat_minor": 0,
  "metadata": {
    "colab": {
      "provenance": [],
      "authorship_tag": "ABX9TyMX2ZrRGuopYl9exCVLxtju",
      "include_colab_link": true
    },
    "kernelspec": {
      "name": "python3",
      "display_name": "Python 3"
    },
    "language_info": {
      "name": "python"
    }
  },
  "cells": [
    {
      "cell_type": "markdown",
      "metadata": {
        "id": "view-in-github",
        "colab_type": "text"
      },
      "source": [
        "<a href=\"https://colab.research.google.com/github/mayuresh-tungare/upgrad_bootcamp/blob/main/module1_oct24.ipynb\" target=\"_parent\"><img src=\"https://colab.research.google.com/assets/colab-badge.svg\" alt=\"Open In Colab\"/></a>"
      ]
    },
    {
      "cell_type": "code",
      "execution_count": 16,
      "metadata": {
        "colab": {
          "base_uri": "https://localhost:8080/"
        },
        "id": "Ef_fXudST9XP",
        "outputId": "abe767a1-9bb6-4b34-e4cf-55aaeb2defe9"
      },
      "outputs": [
        {
          "output_type": "stream",
          "name": "stdout",
          "text": [
            "7\n",
            "8\n",
            "1\n",
            "17\n"
          ]
        }
      ],
      "source": [
        "num = 781\n",
        "hundred = int(num * 0.01)\n",
        "ten = int((num - int(hundred) * 100) * 0.1)\n",
        "one = int(num - (hundred * 100 + ten * 10))\n",
        "new_number = one * 10 + hundred\n",
        "print(new_number)\n",
        "\n"
      ]
    },
    {
      "cell_type": "markdown",
      "source": [
        "You are given a total number of seconds. Convert it to hours, minutes, and seconds and print it in the format hh:mm:ss.\n",
        "\n",
        "Sample Input: 3661\n",
        "Sample Output: 01:01:01"
      ],
      "metadata": {
        "id": "gGwVDJt9ZVoM"
      }
    },
    {
      "cell_type": "code",
      "source": [
        "# Taking input\n",
        "total_seconds = 3661\n",
        "\n",
        "# Write your code here\n",
        "hours = int(total_seconds / 3600)\n",
        "print(hours)\n",
        "mins = int((total_seconds - hours * 3600)/60)\n",
        "print(mins)\n",
        "seconds = int(total_seconds - hours * 3600 - mins * 60)\n",
        "print(seconds)\n",
        "output = (str(hours)+':'+str(mins)+':'+str(seconds))\n",
        "\n",
        "# Print the output\n",
        "print(output)"
      ],
      "metadata": {
        "colab": {
          "base_uri": "https://localhost:8080/"
        },
        "id": "YmO_KTRPZfXe",
        "outputId": "1132fc5a-adaf-41f4-8a20-86e0bec0f8d5"
      },
      "execution_count": 8,
      "outputs": [
        {
          "output_type": "stream",
          "name": "stdout",
          "text": [
            "1\n",
            "1\n",
            "1\n",
            "1:1:1\n"
          ]
        }
      ]
    },
    {
      "cell_type": "markdown",
      "source": [
        "A vehicle travels two different segments of a journey:\n",
        "\n",
        "1. It covers the first segment at speed s1 for time t1\n",
        "\n",
        "2. Then it covers the second segment at speed s2 for time t2\n",
        "\n",
        "Calculate and print the overall average speed.\n",
        "\n",
        "Note: The average speed should be a whole number\n",
        "\n",
        "Sample Input:\n",
        "\n",
        "60\n",
        "\n",
        "2\n",
        "\n",
        "90\n",
        "\n",
        "1\n",
        "\n",
        "Sample Output:\n",
        "\n",
        "70"
      ],
      "metadata": {
        "id": "v0BizHb_9gem"
      }
    },
    {
      "cell_type": "code",
      "source": [
        "# Taking input\n",
        "s1 = float(input())\n",
        "t1 = float(input())\n",
        "s2 = float(input())\n",
        "t2 = float(input())\n",
        "\n",
        "# Write your code here\n",
        "avg_speed = int((s1 * t1 + s2 * t2) / (t1 + t2))\n",
        "\n",
        "# Print the output\n",
        "print(avg_speed)"
      ],
      "metadata": {
        "colab": {
          "base_uri": "https://localhost:8080/"
        },
        "id": "JpIf6zVr-sPt",
        "outputId": "81af5deb-bf80-4845-b79a-81259dafd215"
      },
      "execution_count": 10,
      "outputs": [
        {
          "output_type": "stream",
          "name": "stdout",
          "text": [
            "60\n",
            "2\n",
            "90\n",
            "1\n",
            "70\n"
          ]
        }
      ]
    },
    {
      "cell_type": "markdown",
      "source": [
        "You are given an amount in rupees. Calculate how many 100s, 50s, 10s, and remaining rupees it contains using successive modulus and floor division.\n",
        "\n",
        "Sample Input: 786\n",
        "\n",
        "Sample Output: 7 1 3 6"
      ],
      "metadata": {
        "id": "a9mf05ZJlO3_"
      }
    },
    {
      "cell_type": "code",
      "source": [
        "# Taking input\n",
        "amount = 786\n",
        "\n",
        "# Write your code here\n",
        "hundreds = int(amount / 100)\n",
        "print(hundreds)\n",
        "fifties = int((amount - hundreds * 100) / 50)\n",
        "print(fifties)\n",
        "tens = int((amount - hundreds *100 - fifties * 50) / 10)\n",
        "print(tens)\n",
        "ones = (amount - hundreds *100 - fifties * 50 - tens * 10)\n",
        "print(ones)\n",
        "\n",
        "# Print the output\n",
        "print(hundreds, fifties, tens, ones)"
      ],
      "metadata": {
        "colab": {
          "base_uri": "https://localhost:8080/"
        },
        "id": "sswKKyuKlZWo",
        "outputId": "dfa551ed-576b-4546-c67f-a48b975f1838"
      },
      "execution_count": 10,
      "outputs": [
        {
          "output_type": "stream",
          "name": "stdout",
          "text": [
            "7\n",
            "1\n",
            "3\n",
            "6\n",
            "7 1 3 6\n"
          ]
        }
      ]
    }
  ]
}