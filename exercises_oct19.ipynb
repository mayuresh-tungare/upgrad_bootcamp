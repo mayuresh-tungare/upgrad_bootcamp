{
  "nbformat": 4,
  "nbformat_minor": 0,
  "metadata": {
    "colab": {
      "provenance": []
    },
    "kernelspec": {
      "name": "python3",
      "display_name": "Python 3"
    },
    "language_info": {
      "name": "python"
    }
  },
  "cells": [
    {
      "cell_type": "markdown",
      "source": [
        "1. Variable swap"
      ],
      "metadata": {
        "id": "_XZqrWj_dlPE"
      }
    },
    {
      "cell_type": "code",
      "source": [
        "a = 5\n",
        "b = 10\n",
        "print(\"Before swapping: a=\",a,\", b =\", b)\n",
        "\n",
        "#Using a temporary variable\n",
        "temp = a\n",
        "a = b\n",
        "b = temp\n",
        "\n",
        "#pythonic way (without a temporary variable)\n",
        "a, b = b, a\n",
        "print(\"After swapping again: a =\", a, \", b =\", b)"
      ],
      "metadata": {
        "colab": {
          "base_uri": "https://localhost:8080/"
        },
        "id": "gcqyjFnCdtf8",
        "outputId": "e1eb389e-f2fc-4fc4-a722-6c7b1c2b4b05"
      },
      "execution_count": 1,
      "outputs": [
        {
          "output_type": "stream",
          "name": "stdout",
          "text": [
            "Before swapping: a= 5 , b = 10\n",
            "After swapping again: a = 5 , b = 10\n"
          ]
        }
      ]
    },
    {
      "cell_type": "markdown",
      "source": [
        "2. Simple Interest Calculator"
      ],
      "metadata": {
        "id": "xe8_rfq6fJvz"
      }
    },
    {
      "cell_type": "code",
      "source": [
        "principal = float(input(\"Enter the principal amount: \"))\n",
        "rate = float(input(\"Enter the rate of interest: \"))\n",
        "time = float(input(\"Enter the time in years: \"))\n",
        "simple_interest = (principal * rate * time) / 100\n",
        "print(\"\\n Simple Interest:\", simple_interest)"
      ],
      "metadata": {
        "colab": {
          "base_uri": "https://localhost:8080/"
        },
        "id": "DHB0pM08fOav",
        "outputId": "bbcc0374-ee54-4d42-b401-635470fb9131"
      },
      "execution_count": 1,
      "outputs": [
        {
          "output_type": "stream",
          "name": "stdout",
          "text": [
            "Enter the principal amount: 100\n",
            "Enter the rate of interest: 10\n",
            "Enter the time in years: 15\n",
            "\n",
            " Simple Interest: 150.0\n"
          ]
        }
      ]
    },
    {
      "cell_type": "markdown",
      "source": [
        "3. Area of a circle"
      ],
      "metadata": {
        "id": "70Ohem7Qoiu0"
      }
    },
    {
      "cell_type": "code",
      "source": [
        "pi = 3.14159\n",
        "radius = float(input(\"Enter the radius of the circle: \"))\n",
        "area = pi * (radius ** 2)\n",
        "print(\"\\n The area of the circle is:\", area)"
      ],
      "metadata": {
        "colab": {
          "base_uri": "https://localhost:8080/"
        },
        "id": "b38Yf8TaolZF",
        "outputId": "46d9758b-4a9b-4dc2-b9f8-847654e742be"
      },
      "execution_count": 1,
      "outputs": [
        {
          "output_type": "stream",
          "name": "stdout",
          "text": [
            "Enter the radius of the circle: 5.43\n",
            "\n",
            " The area of the circle is: 92.62946699099999\n"
          ]
        }
      ]
    },
    {
      "cell_type": "markdown",
      "source": [
        "4. Even or Odd"
      ],
      "metadata": {
        "id": "8DUQoSrdEpme"
      }
    },
    {
      "cell_type": "code",
      "source": [
        "number = int(input(\"Enter a number:\"))\n",
        "if (number % 2) == 0:\n",
        "    print(\"The number is an even number\")\n",
        "else:\n",
        "    print(\"The number is an odd number\")\n"
      ],
      "metadata": {
        "colab": {
          "base_uri": "https://localhost:8080/"
        },
        "id": "TyWFYDIcE3s8",
        "outputId": "419e1cb6-af40-42bd-9b98-3be81ffc8193"
      },
      "execution_count": 6,
      "outputs": [
        {
          "output_type": "stream",
          "name": "stdout",
          "text": [
            "Enter a number:1\n",
            "The number is an odd number\n"
          ]
        }
      ]
    },
    {
      "cell_type": "markdown",
      "source": [
        "5. Voting Eligibility"
      ],
      "metadata": {
        "id": "gQAuw5J-GlEB"
      }
    },
    {
      "cell_type": "code",
      "source": [
        "age = int(input(\"Enter your age: \"))\n",
        "\n",
        "if age>= 18:\n",
        "  print(\"You are eligible to vote!\")\n",
        "else:\n",
        "  print(\"You are not eligible to vote yet.\")"
      ],
      "metadata": {
        "id": "YK3WmmgqGomE"
      },
      "execution_count": null,
      "outputs": []
    },
    {
      "cell_type": "code",
      "source": [],
      "metadata": {
        "id": "MDoTQlssF647"
      },
      "execution_count": null,
      "outputs": []
    }
  ]
}